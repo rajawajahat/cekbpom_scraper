{
 "cells": [
  {
   "cell_type": "code",
   "execution_count": 12,
   "metadata": {},
   "outputs": [],
   "source": [
    "from selenium import webdriver\n",
    "from selenium.webdriver.common.keys import Keys\n",
    "from bs4 import BeautifulSoup\n",
    "from selenium.webdriver.support.select import Select"
   ]
  },
  {
   "cell_type": "code",
   "execution_count": 8,
   "metadata": {},
   "outputs": [],
   "source": [
    "options = webdriver.ChromeOptions()\n",
    "options.add_argument(\"incognito\")\n",
    "options.add_argument(\"--disable-notifications\")\n",
    "# options.add_argument(\"--headless\")\n",
    "options.add_argument(\"--start-maximized\")\n",
    "\n",
    "driver = webdriver.Chrome(executable_path='./chromedriver', options=options)"
   ]
  },
  {
   "cell_type": "code",
   "execution_count": 10,
   "metadata": {},
   "outputs": [],
   "source": [
    "base_url = \"https://cekbpom.pom.go.id/\"\n",
    "driver.get(base_url)\n",
    "time.sleep(3)\n",
    "\n"
   ]
  },
  {
   "cell_type": "code",
   "execution_count": 21,
   "metadata": {},
   "outputs": [],
   "source": [
    "REGISTRANT_NAME_KEYWORD = \"mandiri\""
   ]
  },
  {
   "cell_type": "code",
   "execution_count": 23,
   "metadata": {},
   "outputs": [],
   "source": [
    "Select(driver.find_element_by_id(\"tb_keycari\")).select_by_value(\"6\")\n",
    "\n",
    "input_keyword = driver.find_element_by_id(\"tb_search\")\n",
    "input_keyword.clear()\n",
    "input_keyword.send_keys(REGISTRANT_NAME_KEYWORD)\n",
    "\n",
    "search = driver.find_element_by_name(\"cari\")\n",
    "driver.execute_script(\"arguments[0].click();\", search)\n",
    "time.sleep(5)"
   ]
  },
  {
   "cell_type": "code",
   "execution_count": 27,
   "metadata": {},
   "outputs": [],
   "source": [
    "import re"
   ]
  },
  {
   "cell_type": "code",
   "execution_count": 44,
   "metadata": {},
   "outputs": [],
   "source": [
    "soup = BeautifulSoup(driver.page_source, \"html.parser\")\n",
    "total_records = re.search(\"Of ([0-9]+)\", soup.find(\"tr\", {\"class\": \"title mbottom\"}).find(\"font\").get_text().strip()).group(1)"
   ]
  },
  {
   "cell_type": "code",
   "execution_count": 48,
   "metadata": {},
   "outputs": [],
   "source": [
    "url_to_target = f\"https://cekbpom.pom.go.id/index.php/home/produk/kuuromr9ji7oj8ta39ooiqja04/all/row/{total_records}/page/1/order/4/DESC/search/6/mandiri\"\n",
    "driver.get(url_to_target)"
   ]
  },
  {
   "cell_type": "code",
   "execution_count": 55,
   "metadata": {},
   "outputs": [
    {
     "data": {
      "text/plain": [
       "<td colspan=\"3\" id=\"filltd\"> <table class=\"normal\"><tbody><tr><td width=\"47%\">\n",
       "<table class=\"normal\">\n",
       "<tbody><tr><td class=\"subs\" width=\"130\">Nomor Registrasi</td><td>MD 167211039029</td></tr>\n",
       "<tr><td class=\"subs\">Masa Berlaku s/d</td><td>20-04-2026<!--&nbsp; <span class=\"grey\">Kemasan Produk Boleh Beredar s/d</span> &nbsp; 20-10-2026--></td></tr>\n",
       "<tr><td class=\"subs\">Diterbitkan Oleh</td><td>e-Registration Pangan Olahan</td></tr>\n",
       "<tr><td class=\"subs\"> </td><td>Direktorat Registrasi Pangan Olahan</td></tr>\n",
       "<tr><td class=\"subs\">Produk</td><td>Makanan &amp; Minuman</td></tr>\n",
       "</tbody></table>\n",
       "</td><td>\n",
       "<table class=\"normal\">\n",
       "<tbody><tr><td class=\"subs\" width=\"130\">Nama Produk</td><td>Sirup Rasa Melon</td></tr>\n",
       "<tr><td class=\"subs\">Merk</td><td>Niki Sari</td></tr>\n",
       "<tr><td class=\"subs\">Kemasan</td><td>Botol kaca (625 ml)</td></tr>\n",
       "<tr><td class=\"subs\">Pendaftar</td><td><a class=\"gray\" href=\"https://cekbpom.pom.go.id/index.php/home/sarana/kuuromr9ji7oj8ta39ooiqja04/id/001.T721.02\">PT. SUKA SARI MITRA MANDIRI</a> - Kota Semarang, Jawa Tengah</td></tr>\n",
       "<tr><td class=\"subs\">Diproduksi Oleh</td><td><a class=\"gray\" href=\"https://cekbpom.pom.go.id/index.php/home/sarana/kuuromr9ji7oj8ta39ooiqja04/id/002.M1346.02\">PT. SUKA SARI MITRA MANDIRI</a> - Kota Semarang, Jawa Tengah</td></tr>\n",
       "</tbody></table>\n",
       "</td></tr></tbody></table></td>"
      ]
     },
     "execution_count": 55,
     "metadata": {},
     "output_type": "execute_result"
    }
   ],
   "source": [
    "soup = BeautifulSoup(driver.page_source, \"html.parser\")\n"
   ]
  },
  {
   "cell_type": "code",
   "execution_count": 56,
   "metadata": {},
   "outputs": [
    {
     "data": {
      "text/plain": [
       "' \\n\\nNomor RegistrasiMD 167211039029\\nMasa Berlaku s/d20-04-2026\\nDiterbitkan Olehe-Registration Pangan Olahan\\n\\xa0Direktorat Registrasi Pangan Olahan\\nProdukMakanan & Minuman\\n\\n\\n\\nNama ProdukSirup Rasa Melon\\nMerkNiki Sari\\nKemasanBotol kaca (625 ml)\\nPendaftarPT. SUKA SARI MITRA MANDIRI - Kota Semarang, Jawa Tengah\\nDiproduksi OlehPT. SUKA SARI MITRA MANDIRI - Kota Semarang, Jawa Tengah\\n\\n'"
      ]
     },
     "execution_count": 56,
     "metadata": {},
     "output_type": "execute_result"
    }
   ],
   "source": [
    "soup.find(lambda tag:tag.name==\"td\" and \"Produk\" in tag.text).get_text()"
   ]
  },
  {
   "cell_type": "code",
   "execution_count": null,
   "metadata": {},
   "outputs": [],
   "source": []
  }
 ],
 "metadata": {
  "kernelspec": {
   "display_name": "Python 3",
   "language": "python",
   "name": "python3"
  },
  "language_info": {
   "codemirror_mode": {
    "name": "ipython",
    "version": 3
   },
   "file_extension": ".py",
   "mimetype": "text/x-python",
   "name": "python",
   "nbconvert_exporter": "python",
   "pygments_lexer": "ipython3",
   "version": "3.8.3"
  }
 },
 "nbformat": 4,
 "nbformat_minor": 4
}
